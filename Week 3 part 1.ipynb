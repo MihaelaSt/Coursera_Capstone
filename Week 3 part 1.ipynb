{
 "cells": [
  {
   "cell_type": "markdown",
   "metadata": {},
   "source": [
    "Toronto boroughs\n",
    "\n",
    "Import dependencies"
   ]
  },
  {
   "cell_type": "code",
   "execution_count": 1,
   "metadata": {},
   "outputs": [
    {
     "name": "stdout",
     "output_type": "stream",
     "text": [
      "Libraries imported.\n"
     ]
    }
   ],
   "source": [
    "from bs4 import BeautifulSoup \n",
    "import requests \n",
    "\n",
    "import lxml\n",
    "import pandas as pd \n",
    "pd.set_option('display.max_columns', None)\n",
    "pd.set_option('display.max_rows', None)\n",
    "\n",
    "from geopy.geocoders import Nominatim # convert an address into latitude and longitude values\n",
    "\n",
    "print('Libraries imported.')"
   ]
  },
  {
   "cell_type": "markdown",
   "metadata": {},
   "source": [
    "Get the data from wikipedia"
   ]
  },
  {
   "cell_type": "code",
   "execution_count": 2,
   "metadata": {},
   "outputs": [],
   "source": [
    "url = 'https://en.wikipedia.org/wiki/List_of_neighbourhoods_in_Toronto'\n",
    "data  = requests.get(url).text \n",
    "soup = BeautifulSoup(data,\"html5lib\") \n"
   ]
  },
  {
   "cell_type": "markdown",
   "metadata": {},
   "source": [
    "Explore the data"
   ]
  },
  {
   "cell_type": "code",
   "execution_count": 3,
   "metadata": {},
   "outputs": [],
   "source": [
    "table = soup.find_all(\"table\",{\"class\":\"wikitable sortable\"})\n",
    "table = table[1]"
   ]
  },
  {
   "cell_type": "code",
   "execution_count": 4,
   "metadata": {},
   "outputs": [
    {
     "data": {
      "text/html": [
       "<div>\n",
       "<style scoped>\n",
       "    .dataframe tbody tr th:only-of-type {\n",
       "        vertical-align: middle;\n",
       "    }\n",
       "\n",
       "    .dataframe tbody tr th {\n",
       "        vertical-align: top;\n",
       "    }\n",
       "\n",
       "    .dataframe thead th {\n",
       "        text-align: right;\n",
       "    }\n",
       "</style>\n",
       "<table border=\"1\" class=\"dataframe\">\n",
       "  <thead>\n",
       "    <tr style=\"text-align: right;\">\n",
       "      <th></th>\n",
       "      <th>CDN number</th>\n",
       "      <th>City-designated neighbourhood</th>\n",
       "      <th>Former city/borough</th>\n",
       "      <th>Neighbourhoods covered</th>\n",
       "      <th>Map</th>\n",
       "      <th>Unnamed: 5</th>\n",
       "    </tr>\n",
       "  </thead>\n",
       "  <tbody>\n",
       "    <tr>\n",
       "      <th>0</th>\n",
       "      <td>129</td>\n",
       "      <td>Agincourt North</td>\n",
       "      <td>Scarborough</td>\n",
       "      <td>Agincourt and Brimwood</td>\n",
       "      <td>NaN</td>\n",
       "      <td>NaN</td>\n",
       "    </tr>\n",
       "    <tr>\n",
       "      <th>1</th>\n",
       "      <td>128</td>\n",
       "      <td>Agincourt South-Malvern West</td>\n",
       "      <td>Scarborough</td>\n",
       "      <td>Agincourt and Malvern</td>\n",
       "      <td>NaN</td>\n",
       "      <td>NaN</td>\n",
       "    </tr>\n",
       "    <tr>\n",
       "      <th>2</th>\n",
       "      <td>20</td>\n",
       "      <td>Alderwood</td>\n",
       "      <td>Etobicoke</td>\n",
       "      <td>Alderwood</td>\n",
       "      <td>NaN</td>\n",
       "      <td>NaN</td>\n",
       "    </tr>\n",
       "    <tr>\n",
       "      <th>3</th>\n",
       "      <td>95</td>\n",
       "      <td>Annex</td>\n",
       "      <td>Old City of Toronto</td>\n",
       "      <td>The Annex and Seaton Village</td>\n",
       "      <td>NaN</td>\n",
       "      <td>NaN</td>\n",
       "    </tr>\n",
       "    <tr>\n",
       "      <th>4</th>\n",
       "      <td>42</td>\n",
       "      <td>Banbury-Don Mills</td>\n",
       "      <td>North York</td>\n",
       "      <td>Don Mills</td>\n",
       "      <td>NaN</td>\n",
       "      <td>NaN</td>\n",
       "    </tr>\n",
       "  </tbody>\n",
       "</table>\n",
       "</div>"
      ],
      "text/plain": [
       "   CDN number City-designated neighbourhood  Former city/borough  \\\n",
       "0         129               Agincourt North          Scarborough   \n",
       "1         128  Agincourt South-Malvern West          Scarborough   \n",
       "2          20                     Alderwood            Etobicoke   \n",
       "3          95                         Annex  Old City of Toronto   \n",
       "4          42             Banbury-Don Mills           North York   \n",
       "\n",
       "         Neighbourhoods covered  Map  Unnamed: 5  \n",
       "0        Agincourt and Brimwood  NaN         NaN  \n",
       "1         Agincourt and Malvern  NaN         NaN  \n",
       "2                     Alderwood  NaN         NaN  \n",
       "3  The Annex and Seaton Village  NaN         NaN  \n",
       "4                     Don Mills  NaN         NaN  "
      ]
     },
     "execution_count": 4,
     "metadata": {},
     "output_type": "execute_result"
    }
   ],
   "source": [
    "df = pd.read_html(str(table), flavor='html5lib')\n",
    "df = df[0]\n",
    "df.head()"
   ]
  },
  {
   "cell_type": "code",
   "execution_count": 5,
   "metadata": {},
   "outputs": [],
   "source": [
    "column_names = ['PostalCode', 'Borough', 'Neighborhood'] \n",
    "\n",
    "neighborhoods = pd.DataFrame(columns=column_names)"
   ]
  },
  {
   "cell_type": "code",
   "execution_count": 6,
   "metadata": {},
   "outputs": [],
   "source": [
    "def get_postcode(neighbourhood, borough):\n",
    "    address = str(neighbourhood)+\", \"+borough+',Toronto, Ontario, Canada'\n",
    "    geolocator = Nominatim(user_agent=\"to_explorer\")\n",
    "    location = geolocator.geocode(address)\n",
    "    #print(location)\n",
    "    if location != None:\n",
    "        postcode = str(location).split(',')[-2]\n",
    "        #print(postcode)\n",
    "        postcode = postcode.split(\" \")[1]\n",
    "        #print(postcode)\n",
    "        if postcode != \"Ontario\":\n",
    "            return [postcode]"
   ]
  },
  {
   "cell_type": "code",
   "execution_count": 9,
   "metadata": {},
   "outputs": [],
   "source": [
    "for row in df.values:\n",
    "    #print(row)\n",
    "    borough = str(row[2])\n",
    "    neighbourhood = str(row[1])\n",
    "    #rint(borough+\" \"+neighbourhood)\n",
    "    \n",
    "    #Get latitude and longitude\n",
    "    try:\n",
    "        [postcode] = get_postcode(neighbourhood, borough)\n",
    "        neighborhoods = neighborhoods.append({'PostalCode': postcode,\n",
    "                                            'Borough': borough,\n",
    "                                            'Neighborhood': neighbourhood}, ignore_index=True)\n",
    "    except:\n",
    "        continue"
   ]
  },
  {
   "cell_type": "code",
   "execution_count": 8,
   "metadata": {},
   "outputs": [
    {
     "data": {
      "text/html": [
       "<div>\n",
       "<style scoped>\n",
       "    .dataframe tbody tr th:only-of-type {\n",
       "        vertical-align: middle;\n",
       "    }\n",
       "\n",
       "    .dataframe tbody tr th {\n",
       "        vertical-align: top;\n",
       "    }\n",
       "\n",
       "    .dataframe thead th {\n",
       "        text-align: right;\n",
       "    }\n",
       "</style>\n",
       "<table border=\"1\" class=\"dataframe\">\n",
       "  <thead>\n",
       "    <tr style=\"text-align: right;\">\n",
       "      <th></th>\n",
       "      <th>PostalCode</th>\n",
       "      <th>Borough</th>\n",
       "      <th>Neighborhood</th>\n",
       "    </tr>\n",
       "  </thead>\n",
       "  <tbody>\n",
       "    <tr>\n",
       "      <th>0</th>\n",
       "      <td>M1V</td>\n",
       "      <td>Scarborough</td>\n",
       "      <td>Agincourt North</td>\n",
       "    </tr>\n",
       "    <tr>\n",
       "      <th>1</th>\n",
       "      <td>M1S</td>\n",
       "      <td>Scarborough</td>\n",
       "      <td>Agincourt South-Malvern West</td>\n",
       "    </tr>\n",
       "    <tr>\n",
       "      <th>2</th>\n",
       "      <td>M8W</td>\n",
       "      <td>Etobicoke</td>\n",
       "      <td>Alderwood</td>\n",
       "    </tr>\n",
       "    <tr>\n",
       "      <th>3</th>\n",
       "      <td>M5T</td>\n",
       "      <td>Old City of Toronto</td>\n",
       "      <td>Annex</td>\n",
       "    </tr>\n",
       "    <tr>\n",
       "      <th>4</th>\n",
       "      <td>M2L</td>\n",
       "      <td>North York</td>\n",
       "      <td>Banbury-Don Mills</td>\n",
       "    </tr>\n",
       "    <tr>\n",
       "      <th>5</th>\n",
       "      <td>M5R</td>\n",
       "      <td>Old City of Toronto</td>\n",
       "      <td>Bay Street Corridor</td>\n",
       "    </tr>\n",
       "    <tr>\n",
       "      <th>6</th>\n",
       "      <td>M2K</td>\n",
       "      <td>North York</td>\n",
       "      <td>Bayview Village</td>\n",
       "    </tr>\n",
       "    <tr>\n",
       "      <th>7</th>\n",
       "      <td>M2M</td>\n",
       "      <td>North York</td>\n",
       "      <td>Bayview Woods-Steeles</td>\n",
       "    </tr>\n",
       "    <tr>\n",
       "      <th>8</th>\n",
       "      <td>M1P</td>\n",
       "      <td>Scarborough</td>\n",
       "      <td>Bendale</td>\n",
       "    </tr>\n",
       "    <tr>\n",
       "      <th>9</th>\n",
       "      <td>M6L</td>\n",
       "      <td>North York</td>\n",
       "      <td>Black Creek</td>\n",
       "    </tr>\n",
       "    <tr>\n",
       "      <th>10</th>\n",
       "      <td>M4K</td>\n",
       "      <td>East York</td>\n",
       "      <td>Broadview North</td>\n",
       "    </tr>\n",
       "    <tr>\n",
       "      <th>11</th>\n",
       "      <td>M5R</td>\n",
       "      <td>Old City of Toronto</td>\n",
       "      <td>Casa Loma</td>\n",
       "    </tr>\n",
       "  </tbody>\n",
       "</table>\n",
       "</div>"
      ],
      "text/plain": [
       "   PostalCode              Borough                  Neighborhood\n",
       "0         M1V          Scarborough               Agincourt North\n",
       "1         M1S          Scarborough  Agincourt South-Malvern West\n",
       "2         M8W            Etobicoke                     Alderwood\n",
       "3         M5T  Old City of Toronto                         Annex\n",
       "4         M2L           North York             Banbury-Don Mills\n",
       "5         M5R  Old City of Toronto           Bay Street Corridor\n",
       "6         M2K           North York               Bayview Village\n",
       "7         M2M           North York         Bayview Woods-Steeles\n",
       "8         M1P          Scarborough                       Bendale\n",
       "9         M6L           North York                   Black Creek\n",
       "10        M4K            East York               Broadview North\n",
       "11        M5R  Old City of Toronto                     Casa Loma"
      ]
     },
     "execution_count": 8,
     "metadata": {},
     "output_type": "execute_result"
    }
   ],
   "source": [
    "neighborhoods.head(12)"
   ]
  },
  {
   "cell_type": "code",
   "execution_count": null,
   "metadata": {},
   "outputs": [],
   "source": []
  }
 ],
 "metadata": {
  "kernelspec": {
   "display_name": "Python",
   "language": "python",
   "name": "conda-env-python-py"
  },
  "language_info": {
   "codemirror_mode": {
    "name": "ipython",
    "version": 3
   },
   "file_extension": ".py",
   "mimetype": "text/x-python",
   "name": "python",
   "nbconvert_exporter": "python",
   "pygments_lexer": "ipython3",
   "version": "3.6.12"
  }
 },
 "nbformat": 4,
 "nbformat_minor": 4
}
